{
 "cells": [
  {
   "cell_type": "code",
   "execution_count": null,
   "id": "4effd249-2aa3-4d84-a23c-da4f1f5c0da0",
   "metadata": {},
   "outputs": [],
   "source": []
  }
 ],
 "metadata": {
  "kernelspec": {
   "display_name": "",
   "name": ""
  },
  "language_info": {
   "name": ""
  }
 },
 "nbformat": 4,
 "nbformat_minor": 5
}
from email_notifier import send_failure_email  # Import the email function

try:
    print("Running ETL process...")

    # 🔽 Your ETL code goes here.
    # For testing, simulate an error:
    simulate_error = 1 / 0  

    print("ETL process completed successfully.")

except Exception as e:
    send_failure_email(str(e))
    raise
