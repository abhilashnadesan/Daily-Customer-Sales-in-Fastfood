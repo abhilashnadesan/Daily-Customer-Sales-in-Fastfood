{
 "cells": [
  {
   "cell_type": "code",
   "execution_count": null,
   "id": "fbb1bcfe-519f-4c1e-819f-353549569ad2",
   "metadata": {},
   "outputs": [],
   "source": []
  }
 ],
 "metadata": {
  "kernelspec": {
   "display_name": "",
   "name": ""
  },
  "language_info": {
   "name": ""
  }
 },
 "nbformat": 4,
 "nbformat_minor": 5
}
